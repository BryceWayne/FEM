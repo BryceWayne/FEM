{
 "cells": [
  {
   "cell_type": "markdown",
   "metadata": {
    "slideshow": {
     "slide_type": "slide"
    }
   },
   "source": [
    "# The Finite Element Method\n",
    "# on an Elliptic Domain\n",
    "### by Bryce Chudomelka\n",
    "<center><img src=\"gifs/Solution10.gif\" height=\"900\"></center>"
   ]
  },
  {
   "cell_type": "markdown",
   "metadata": {
    "slideshow": {
     "slide_type": "slide"
    }
   },
   "source": [
    "# Outline\n",
    "\n",
    "1. Circular Domain\n",
    "    1. Describe initialization and refinement\n",
    "    2. Verify implementation with HW3P1\n",
    "    3. Cross-validate with a different problem"
   ]
  },
  {
   "cell_type": "markdown",
   "metadata": {
    "slideshow": {
     "slide_type": "subslide"
    }
   },
   "source": [
    "2. Generalize to an Elliptic domain\n",
    "    1. Verify implementation with HW3P1\n",
    "    2. Cross-validate with a different problem"
   ]
  },
  {
   "cell_type": "markdown",
   "metadata": {
    "slideshow": {
     "slide_type": "subslide"
    }
   },
   "source": [
    "3. Time Evolution?"
   ]
  },
  {
   "cell_type": "markdown",
   "metadata": {
    "slideshow": {
     "slide_type": "slide"
    }
   },
   "source": [
    "# Preliminaries\n",
    "## Circular Meshes\n",
    "<center><img src=\"meshes/circular_gif.gif\" width=\"500\"></center>"
   ]
  },
  {
   "cell_type": "markdown",
   "metadata": {
    "slideshow": {
     "slide_type": "slide"
    }
   },
   "source": [
    "# Initialization\n",
    "<center><img src=\"FPfigures/circle_init.png\" width=\"600\"></center>"
   ]
  },
  {
   "cell_type": "markdown",
   "metadata": {
    "slideshow": {
     "slide_type": "slide"
    }
   },
   "source": [
    "## Refinement PseudoAlgo\n",
    "\n",
    "1. Copy $\\texttt{Nodes}$, $\\texttt{NodePtrs}$, $\\texttt{FNodePtrs}$, and $\\texttt{CNodePtrs}$ from $\\texttt{T0}$ to $\\texttt{T}$.\n",
    "2. Copy $\\texttt{NodeLevel}$ and $\\texttt{NodeParents}$ from $\\texttt{T0}$ to $\\texttt{T}$ (if they exist in $\\texttt{NodePtrs}$)"
   ]
  },
  {
   "cell_type": "markdown",
   "metadata": {
    "slideshow": {
     "slide_type": "subslide"
    }
   },
   "source": [
    "## Refinement PseudoAlgo\n",
    "\n",
    "Let $N_t^{(0)}$ be the number of triangles in $\\texttt{T0}$\n",
    "\n",
    "$\\texttt{for }i=1,2,...,N_t^{(0)}$\n",
    "\n",
    "$\\quad\\texttt{for }j=1,2,3$\n",
    "\n",
    " $\\qquad$ If edge $j$ of triangle $i$ has not been bisected already\n",
    " \n",
    " $\\quad$$\\qquad$ Create the midpoint of edge $j$ of triangle $i$\n",
    "\n",
    " $\\quad$$\\qquad$ Create the corresponding two new edges\n",
    " \n",
    " $\\qquad$ Begin updating $\\texttt{Elements}$, $\\texttt{EdgeEls}$, $\\texttt{NodeParents}$, $\\texttt{EdgeCFlags}$, and  $\\texttt{FBndyEdges}$\n",
    " \n",
    " $\\qquad$ to create three new interior triangles in $\\texttt{T}$."
   ]
  },
  {
   "cell_type": "markdown",
   "metadata": {
    "slideshow": {
     "slide_type": "subslide"
    }
   },
   "source": [
    "## Refinement PseudoAlgo\n",
    "\n",
    " $\\quad$ Create the three new interior edges in $\\texttt{T}$.\n",
    " \n",
    " $\\quad$ Finish updating $\\texttt{Elements}$ and $\\texttt{EdgeEls}$ in $\\texttt{T}$;\n",
    " \n",
    " $\\quad$$\\qquad$ create the fourth interior triangle in $\\texttt{T}$.\n",
    " \n",
    " $\\quad\\texttt{for }j=1,2,3$\n",
    " \n",
    " $\\quad$$\\qquad$ Determine if the new midpoint of the edge $j$ is free or constrained.\n",
    " \n",
    " $\\quad$$\\qquad$ Update $\\texttt{NodePtrs}$, $\\texttt{FNodePtrs}$, and $\\texttt{CNodePtrs}$ in $\\texttt{T}$.\n",
    " \n",
    "**Source** Mark S. Gockenbach. 2006. $\\textit{Understanding And Implementing the Finite Element Method.}$ Society for Industrial and Applied Mathematics, USA."
   ]
  },
  {
   "cell_type": "markdown",
   "metadata": {
    "slideshow": {
     "slide_type": "slide"
    }
   },
   "source": [
    "# Refinement\n",
    "<center><img src=\"meshes/circular_refinement.gif\" width=\"600\"></center>"
   ]
  },
  {
   "cell_type": "markdown",
   "metadata": {
    "slideshow": {
     "slide_type": "slide"
    }
   },
   "source": [
    "## Circular Function\n",
    "<center><img src=\"FPfigures/circlef.png\" width=\"1000\"></center>"
   ]
  },
  {
   "cell_type": "markdown",
   "metadata": {
    "slideshow": {
     "slide_type": "slide"
    }
   },
   "source": [
    "# We meet again HW3P1!\n",
    "## Reaction-Diffusion in 2D on a square domain\n",
    "\\begin{align}- \\nabla\\cdot(\\kappa\\nabla u) + u&=f,\\quad\\text{in}\\quad\\Omega\\\\\n",
    "u&=g,\\quad\\text{on}\\quad~\\Gamma_1\\\\\n",
    "\\frac{\\partial u}{\\partial n}&=h,\\quad\\text{on}\\quad~\\Gamma_2\n",
    "\\end{align}\n",
    "\n",
    "where $\\kappa(x,y)=1+x^2y$, $\\Omega$ is the unit square, and $f,g,h$ are chosen such that $u(x,y)=e^{2x}(x^2+y^2)$. \n",
    "\\begin{align}\n",
    "f&=-2xy(2e^{2x}r^2+2e^{2x}x)-\\kappa(4e^{2x}r^2+8e^{2x}x+2e^{2x})-2x^2e^{2x}y-2\\kappa e^{2x}+u(x,y),\\\\\n",
    "g&=e^{2x}r^2,\\\\\n",
    "\\text{where } r^2&=x^2+y^2.\n",
    "\\end{align}"
   ]
  },
  {
   "cell_type": "markdown",
   "metadata": {
    "slideshow": {
     "slide_type": "slide"
    }
   },
   "source": [
    "## Reaction-Diffusion in 2D on a circular domain\n",
    "\n",
    "\\begin{align} -\\nabla\\cdot(\\kappa\\nabla u) + u&=f,\\quad\\text{in}\\quad\\Omega\\\\\n",
    "u&=g,\\quad\\text{on}\\quad\\partial\\Omega\n",
    "\\end{align}\n",
    "\n",
    "where $\\kappa(x,y)=1+x^2y$, $\\Omega$ is the unit circle, and $f,g$ are chosen such that $u(x,y)=e^{2x}(x^2+y^2)$. "
   ]
  },
  {
   "cell_type": "markdown",
   "metadata": {
    "slideshow": {
     "slide_type": "slide"
    }
   },
   "source": [
    "## Reaction-Diffusion in 2D on a circular domain\n",
    "### Variational form for Inhomogeneous Dirichlet conditions (p. 32)\n",
    "\n",
    "Assume that $G\\in H^1(\\Omega)$ such that $G=g$ on $\\partial\\Omega$. Find $u=w+g$, $w\\in H^1(\\Omega)$,\n",
    "$$\\int_\\Omega\\kappa\\nabla w\\cdot\\nabla v + \\int_\\Omega uv=\\int_\\Omega fv-\\int_\\Omega \\kappa\\nabla G\\cdot \\nabla v\\quad\\forall v\\in H^1_0(\\Omega).$$"
   ]
  },
  {
   "cell_type": "markdown",
   "metadata": {
    "slideshow": {
     "slide_type": "subslide"
    }
   },
   "source": [
    "<center><img src=\"HW3P1/matrix_density_refinement.gif\"></center>"
   ]
  },
  {
   "cell_type": "markdown",
   "metadata": {
    "slideshow": {
     "slide_type": "subslide"
    }
   },
   "source": [
    "## Inhomogenous Dirichlet Condition\n",
    "<center><img src=\"HW3P1/Relative_Energy_Norm_Error.png\" width=\"1200\"></center>"
   ]
  },
  {
   "cell_type": "markdown",
   "metadata": {
    "slideshow": {
     "slide_type": "subslide"
    }
   },
   "source": [
    "## Inhomogenous Dirichlet Condition\n",
    "<center><img src=\"HW3P1/Relative_L2_Error.png\" width=\"1200\"></center>"
   ]
  },
  {
   "cell_type": "markdown",
   "metadata": {
    "slideshow": {
     "slide_type": "subslide"
    }
   },
   "source": [
    "<center><img src=\"HW3P1/solution_refinement.gif\" height=\"800\"></center>"
   ]
  },
  {
   "cell_type": "markdown",
   "metadata": {
    "slideshow": {
     "slide_type": "subslide"
    }
   },
   "source": [
    "<center><img src=\"HW3P1/Solution39.gif\"></center>"
   ]
  },
  {
   "cell_type": "markdown",
   "metadata": {
    "slideshow": {
     "slide_type": "subslide"
    }
   },
   "source": [
    "<center><img src=\"HW3P1/difference_refinement.gif\"></center>"
   ]
  },
  {
   "cell_type": "markdown",
   "metadata": {
    "slideshow": {
     "slide_type": "slide"
    }
   },
   "source": [
    "## Reaction-Diffusion in 2D on a circular domain\n",
    "\\begin{align}- \\Delta u + u&=f,\\quad\\text{in}\\quad\\Omega\\\\\n",
    "u&=g,\\quad\\text{on}\\quad\\partial\\Omega\\\\\n",
    "\\end{align}\n",
    "\n",
    "where $\\Omega$ is the unit circle, and $f,g$ are chosen such that $u(x,y)=(1+x)(1+y)(1-r^2)$. \n",
    "\\begin{align}\n",
    "f&=4(1 + 2y + x(2 + 3y)) + u(x,y),\\\\\n",
    "g&=(1+x)(1+y)(1-r^2),\\\\\n",
    "\\text{where } r^2&=x^2+y^2.\n",
    "\\end{align}"
   ]
  },
  {
   "cell_type": "markdown",
   "metadata": {
    "slideshow": {
     "slide_type": "subslide"
    }
   },
   "source": [
    "## Homogenous Dirichlet Condition\n",
    "<center><img src=\"HongProb/Relative_Energy_Norm_Error.png\" width=\"1200\"></center>"
   ]
  },
  {
   "cell_type": "markdown",
   "metadata": {
    "slideshow": {
     "slide_type": "subslide"
    }
   },
   "source": [
    "## Homogenous Dirichlet Condition\n",
    "<center><img src=\"HongProb/Relative_L2_Error.png\" width=\"1200\"></center>"
   ]
  },
  {
   "cell_type": "markdown",
   "metadata": {
    "slideshow": {
     "slide_type": "subslide"
    }
   },
   "source": [
    "<center><img src=\"HongProb/Solution40.gif\" height=\"800\"></center>"
   ]
  },
  {
   "cell_type": "markdown",
   "metadata": {
    "slideshow": {
     "slide_type": "subslide"
    }
   },
   "source": [
    "<center><img src=\"HongProb/Solution39.gif\"></center>"
   ]
  },
  {
   "cell_type": "markdown",
   "metadata": {
    "slideshow": {
     "slide_type": "subslide"
    }
   },
   "source": [
    "<center><img src=\"HongProb/Solution41.gif\"></center>"
   ]
  },
  {
   "cell_type": "markdown",
   "metadata": {
    "slideshow": {
     "slide_type": "slide"
    }
   },
   "source": [
    "# Generalization to\n",
    "## Elliptic Meshes\n",
    "<center><img src=\"meshes/elliptic_gif.gif\" width=\"500\"></center>"
   ]
  },
  {
   "cell_type": "markdown",
   "metadata": {
    "slideshow": {
     "slide_type": "subslide"
    }
   },
   "source": [
    "## Elliptic Function\n",
    "<center><img src=\"FPfigures/ellipsef.png\" width=\"1000\"></center>"
   ]
  },
  {
   "cell_type": "markdown",
   "metadata": {
    "slideshow": {
     "slide_type": "subslide"
    }
   },
   "source": [
    "## Elliptic Function\n",
    "<center><img src=\"FPfigures/ellipsef0.png\" width=\"1000\"></center>"
   ]
  },
  {
   "cell_type": "markdown",
   "metadata": {
    "slideshow": {
     "slide_type": "slide"
    }
   },
   "source": [
    "## Reaction-Diffusion in 2D on an elliptic domain\n",
    "\n",
    "\\begin{align} -\\nabla\\cdot(\\kappa\\nabla u) + u&=f,\\quad\\text{in}\\quad\\Omega\\\\\n",
    "u&=g,\\quad\\text{on}\\quad\\partial\\Omega\n",
    "\\end{align}\n",
    "\n",
    "where $\\kappa(x,y)=1+x^2y$, $\\Omega$ is the ellipse defined by $x^2+\\frac{y^2}{4}=1$, and $f,g$ are chosen such that $u(x,y)=e^{2x}(x^2+y^2)$. "
   ]
  },
  {
   "cell_type": "markdown",
   "metadata": {
    "slideshow": {
     "slide_type": "subslide"
    }
   },
   "source": [
    "## Inhomogenous Dirichlet Condition\n",
    "<center><img src=\"HW3P1_ellipse/Relative_Energy_Norm_Error.png\" width=\"1200\"></center>"
   ]
  },
  {
   "cell_type": "markdown",
   "metadata": {
    "slideshow": {
     "slide_type": "subslide"
    }
   },
   "source": [
    "## Inhomogenous Dirichlet Condition\n",
    "<center><img src=\"HW3P1_ellipse/Relative_L2_Error.png\" width=\"1200\"></center>"
   ]
  },
  {
   "cell_type": "markdown",
   "metadata": {
    "slideshow": {
     "slide_type": "subslide"
    }
   },
   "source": [
    "<center><img src=\"HW3P1_ellipse/solution_refinement.gif\" height=\"800\"></center>"
   ]
  },
  {
   "cell_type": "markdown",
   "metadata": {
    "slideshow": {
     "slide_type": "subslide"
    }
   },
   "source": [
    "<center><img src=\"HW3P1_ellipse/Solution41.gif\"></center>"
   ]
  },
  {
   "cell_type": "markdown",
   "metadata": {
    "slideshow": {
     "slide_type": "subslide"
    }
   },
   "source": [
    "<center><img src=\"HW3P1_ellipse/difference_refinement.gif\"></center>"
   ]
  },
  {
   "cell_type": "markdown",
   "metadata": {
    "slideshow": {
     "slide_type": "slide"
    }
   },
   "source": [
    "## Reaction-Diffusion in 2D on a elliptic domain\n",
    "\\begin{align}- \\Delta u + u&=f,\\quad\\text{in}\\quad\\Omega\\\\\n",
    "u&=g,\\quad\\text{on}\\quad\\partial\\Omega\\\\\n",
    "\\end{align}\n",
    "\n",
    "where $\\Omega$ is the boundary from before, and $f,g$ are chosen such that $u(x,y)=(1+x)(1+y)(1-r^2)$. \n",
    "\\begin{align}\n",
    "f&=4(1 + 2y + x(2 + 3y)) + u(x,y),\\\\\n",
    "g&=(1+x)(1+y)(1-r^2),\\\\\n",
    "\\text{where } r^2&=x^2+y^2.\n",
    "\\end{align}"
   ]
  },
  {
   "cell_type": "markdown",
   "metadata": {
    "slideshow": {
     "slide_type": "subslide"
    }
   },
   "source": [
    "<center><img src=\"HongProb_ellipse/merged_evolution.gif\" height=\"800\"></center>"
   ]
  },
  {
   "cell_type": "markdown",
   "metadata": {
    "slideshow": {
     "slide_type": "subslide"
    }
   },
   "source": [
    "<center><img src=\"HongProb_ellipse/surface.gif\"></center>"
   ]
  },
  {
   "cell_type": "markdown",
   "metadata": {
    "slideshow": {
     "slide_type": "subslide"
    }
   },
   "source": [
    "<center><img src=\"HongProb_ellipse/diff_evolution.gif\"></center>"
   ]
  },
  {
   "cell_type": "markdown",
   "metadata": {
    "slideshow": {
     "slide_type": "slide"
    }
   },
   "source": [
    "# The End"
   ]
  },
  {
   "cell_type": "markdown",
   "metadata": {
    "slideshow": {
     "slide_type": "slide"
    }
   },
   "source": [
    "## Reaction-Diffusion in 2D with time evolution\n",
    "\n",
    "$$\\partial_tu - \\nabla\\cdot(\\kappa\\nabla u) + u=f$$\n"
   ]
  },
  {
   "cell_type": "markdown",
   "metadata": {
    "slideshow": {
     "slide_type": "fragment"
    }
   },
   "source": [
    "Finite Difference on the temporal derivative.\n",
    "$$\\frac{u^{n+1}-u^n}{\\delta t} - \\nabla\\cdot(\\kappa\\nabla u^{n+1}) + u^{n+1}=f^{n+1}$$\n",
    "$$u^{n+1}-u^n - \\delta t\\nabla\\cdot(\\kappa\\nabla u^{n+1}) + \\delta tu^{n+1}=\\delta tf^{n+1}$$\n",
    "$$- \\delta t\\nabla\\cdot(\\kappa\\nabla u^{n+1}) + (1+\\delta t)u^{n+1}=u^n+\\delta tf^{n+1}$$"
   ]
  },
  {
   "cell_type": "markdown",
   "metadata": {
    "slideshow": {
     "slide_type": "slide"
    }
   },
   "source": [
    "Variational form\n",
    "$$\\text{Assume }v\\in H_0^1(\\Omega)$$\n",
    "$$\\int_\\Omega \\left[\\delta t\\kappa(\\nabla u^{n+1}\\cdot\\nabla v) + (1+\\delta t)u^{n+1}v\\right]=\\int_\\Omega u^nv+\\delta t\\int_\\Omega f^{n+1}v$$"
   ]
  },
  {
   "cell_type": "markdown",
   "metadata": {
    "slideshow": {
     "slide_type": "fragment"
    }
   },
   "source": [
    "Linearized system\n",
    "$$\\mathcal{M}U^{n+1}=\\mathcal{F}^{n+1}$$\n",
    "where\n",
    "$$\\mathcal{M}\\equiv\\int_\\Omega\\left[\\delta t\\kappa(\\nabla u^{n+1}\\cdot\\nabla v) + (1+\\delta t)u^{n+1}v\\right]$$\n",
    "and \n",
    "$$\\mathcal{F}\\equiv\\int_\\Omega u^nv+\\delta t\\int_\\Omega f^{n+1}v$$"
   ]
  },
  {
   "cell_type": "markdown",
   "metadata": {
    "slideshow": {
     "slide_type": "slide"
    }
   },
   "source": [
    "## Reaction-Diffusion in 2D on a circular domain\n",
    "\n",
    "\\begin{align} \\partial_t u -\\Delta u + u&=f,\\quad\\text{in}\\quad\\Omega\\\\\n",
    "u&=0,\\quad\\text{on}\\quad\\partial\\Omega\\\\\n",
    "u_0&=u(x,y,0)\n",
    "\\end{align}\n",
    "\n",
    "where $\\Omega$ is the unit circle, and $f$ is chosen such that $u(x,y,t)=u(x,y)=(1+x)(1+y)(1-r^2)\\cos(2\\pi t)$."
   ]
  },
  {
   "cell_type": "markdown",
   "metadata": {
    "slideshow": {
     "slide_type": "subslide"
    }
   },
   "source": [
    "<center><img src=\"HongProb/time_evolution.gif\" height=\"600\"></center>"
   ]
  },
  {
   "cell_type": "markdown",
   "metadata": {
    "slideshow": {
     "slide_type": "subslide"
    }
   },
   "source": [
    "<center><img src=\"HongProb/difference_ev.gif\" height=\"600\"></center>"
   ]
  },
  {
   "cell_type": "markdown",
   "metadata": {
    "slideshow": {
     "slide_type": "subslide"
    }
   },
   "source": [
    "## Reaction-Diffusion in 2D on a elliptic domain\n",
    "<center><img src=\"gifs/Solution14.gif\" height=\"700\"></center>"
   ]
  }
 ],
 "metadata": {
  "celltoolbar": "Slideshow",
  "kernelspec": {
   "display_name": "Python 3",
   "language": "python",
   "name": "python3"
  },
  "language_info": {
   "codemirror_mode": {
    "name": "ipython",
    "version": 3
   },
   "file_extension": ".py",
   "mimetype": "text/x-python",
   "name": "python",
   "nbconvert_exporter": "python",
   "pygments_lexer": "ipython3",
   "version": "3.7.4"
  }
 },
 "nbformat": 4,
 "nbformat_minor": 4
}
