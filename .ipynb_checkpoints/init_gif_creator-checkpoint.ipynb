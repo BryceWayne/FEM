{
 "cells": [
  {
   "cell_type": "markdown",
   "metadata": {},
   "source": [
    "$$\\partial_tu - \\nabla\\cdot(\\kappa\\nabla u) + u=f$$\n",
    "$$\\frac{u^{n+1}-u^n}{\\delta t} - \\nabla\\cdot(\\kappa\\nabla u^{n+1}) + u^{n+1}=f^{n+1}$$\n",
    "$$u^{n+1}-u^n - \\delta t\\nabla\\cdot(\\kappa\\nabla u^{n+1}) + \\delta tu^{n+1}=\\delta tf^{n+1}$$\n",
    "$$- \\delta t\\nabla\\cdot(\\kappa\\nabla u^{n+1}) + (1+\\delta t)u^{n+1}=u^n+\\delta tf^{n+1}$$\n",
    "$$\\int_\\Omega \\left[\\delta t\\kappa(\\nabla u^{n+1}\\cdot\\nabla v) + (1+\\delta t)u^{n+1}v\\right]=\\int_\\Omega u^nv+\\delta t\\int_\\Omega f^{n+1}v+\\int_{\\partial\\Omega}gv+\\int_{\\partial\\Omega}hv$$\n",
    "$$\\mathcal{M}U^{n+1}=\\mathcal{F}^{n+1}$$"
   ]
  },
  {
   "cell_type": "code",
   "execution_count": 1,
   "metadata": {},
   "outputs": [],
   "source": [
    "# from IPython.display import Image\n",
    "# Image(filename=\"C:/Users/Algrus/Documents/Python Scripts/FEM/gifs/Solution25.gif\")"
   ]
  },
  {
   "cell_type": "code",
   "execution_count": 2,
   "metadata": {},
   "outputs": [],
   "source": [
    "from PIL import Image\n",
    "import os, sys"
   ]
  },
  {
   "cell_type": "code",
   "execution_count": 3,
   "metadata": {},
   "outputs": [],
   "source": [
    "def gif_creator(images, filename='Solution'):\n",
    "    gifnumber = len([file for file in os.listdir(cwd) if file.endswith('.gif')])\n",
    "    images[0].save(f'{filename}{gifnumber+1}.gif',\n",
    "        save_all=True, append_images=images[1:], optimize=False, duration=80, loop=0)"
   ]
  },
  {
   "cell_type": "code",
   "execution_count": 4,
   "metadata": {},
   "outputs": [],
   "source": [
    "cwd = os.getcwd()\n",
    "path = os.path.join(cwd, 'gifs')\n",
    "os.chdir(path)\n",
    "cwd = os.getcwd()\n",
    "filelist= [file for file in os.listdir(cwd) if file.endswith('.png')]\n",
    "images = []\n",
    "for file in filelist:\n",
    "    images.append(Image.open(file))"
   ]
  },
  {
   "cell_type": "code",
   "execution_count": 5,
   "metadata": {},
   "outputs": [],
   "source": [
    "if len(images) > 1:\n",
    "    gif_creator(images)\n",
    "else:\n",
    "    print(\"No images.\")"
   ]
  },
  {
   "cell_type": "code",
   "execution_count": 6,
   "metadata": {},
   "outputs": [],
   "source": [
    "for file in filelist:\n",
    "    os.remove(file)"
   ]
  },
  {
   "cell_type": "code",
   "execution_count": null,
   "metadata": {},
   "outputs": [],
   "source": []
  }
 ],
 "metadata": {
  "kernelspec": {
   "display_name": "Python 3",
   "language": "python",
   "name": "python3"
  },
  "language_info": {
   "codemirror_mode": {
    "name": "ipython",
    "version": 3
   },
   "file_extension": ".py",
   "mimetype": "text/x-python",
   "name": "python",
   "nbconvert_exporter": "python",
   "pygments_lexer": "ipython3",
   "version": "3.7.4"
  }
 },
 "nbformat": 4,
 "nbformat_minor": 4
}
